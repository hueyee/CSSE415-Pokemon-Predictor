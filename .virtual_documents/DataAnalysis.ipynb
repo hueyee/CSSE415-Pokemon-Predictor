import pandas as pd
import numpy as np



df = pd.read_parquet("new.parquet", engine="fastparquet")


df.columns


df.dtypes


df.head()


df.value_counts()



