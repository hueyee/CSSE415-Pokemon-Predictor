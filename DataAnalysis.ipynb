{
 "cells": [
  {
   "cell_type": "code",
   "execution_count": 2,
   "metadata": {},
   "outputs": [],
   "source": [
    "import pandas as pd\n",
    "import numpy as np\n"
   ]
  },
  {
   "cell_type": "code",
   "execution_count": 3,
   "metadata": {},
   "outputs": [],
   "source": [
    "df = pd.read_parquet(\"new.parquet\", engine=\"fastparquet\")"
   ]
  },
  {
   "cell_type": "code",
   "execution_count": 4,
   "metadata": {},
   "outputs": [
    {
     "data": {
      "text/plain": [
       "Index(['game_id', 'turn_id', 'p1_rating', 'p2_rating', 'p1_pokemon',\n",
       "       'p2_pokemon', 'p1_move', 'p2_move', 'p1_damage_taken', 'p1_status',\n",
       "       'p2_damage_taken', 'p2_status', 'p1_revealed_pokemon',\n",
       "       'p2_revealed_pokemon'],\n",
       "      dtype='object')"
      ]
     },
     "execution_count": 4,
     "metadata": {},
     "output_type": "execute_result"
    }
   ],
   "source": [
    "df.columns"
   ]
  },
  {
   "cell_type": "code",
   "execution_count": 5,
   "metadata": {},
   "outputs": [
    {
     "data": {
      "text/plain": [
       "game_id                 object\n",
       "turn_id                  int64\n",
       "p1_rating                int64\n",
       "p2_rating                int64\n",
       "p1_pokemon              object\n",
       "p2_pokemon              object\n",
       "p1_move                 object\n",
       "p2_move                 object\n",
       "p1_damage_taken        float64\n",
       "p1_status               object\n",
       "p2_damage_taken        float64\n",
       "p2_status               object\n",
       "p1_revealed_pokemon     object\n",
       "p2_revealed_pokemon     object\n",
       "dtype: object"
      ]
     },
     "execution_count": 5,
     "metadata": {},
     "output_type": "execute_result"
    }
   ],
   "source": [
    "df.dtypes"
   ]
  },
  {
   "cell_type": "code",
   "execution_count": 6,
   "metadata": {},
   "outputs": [
    {
     "data": {
      "text/html": [
       "<div>\n",
       "<style scoped>\n",
       "    .dataframe tbody tr th:only-of-type {\n",
       "        vertical-align: middle;\n",
       "    }\n",
       "\n",
       "    .dataframe tbody tr th {\n",
       "        vertical-align: top;\n",
       "    }\n",
       "\n",
       "    .dataframe thead th {\n",
       "        text-align: right;\n",
       "    }\n",
       "</style>\n",
       "<table border=\"1\" class=\"dataframe\">\n",
       "  <thead>\n",
       "    <tr style=\"text-align: right;\">\n",
       "      <th></th>\n",
       "      <th>game_id</th>\n",
       "      <th>turn_id</th>\n",
       "      <th>p1_rating</th>\n",
       "      <th>p2_rating</th>\n",
       "      <th>p1_pokemon</th>\n",
       "      <th>p2_pokemon</th>\n",
       "      <th>p1_move</th>\n",
       "      <th>p2_move</th>\n",
       "      <th>p1_damage_taken</th>\n",
       "      <th>p1_status</th>\n",
       "      <th>p2_damage_taken</th>\n",
       "      <th>p2_status</th>\n",
       "      <th>p1_revealed_pokemon</th>\n",
       "      <th>p2_revealed_pokemon</th>\n",
       "    </tr>\n",
       "  </thead>\n",
       "  <tbody>\n",
       "    <tr>\n",
       "      <th>0</th>\n",
       "      <td>2269094040-MasterRDF-TestingUnoDueTre</td>\n",
       "      <td>0</td>\n",
       "      <td>1290</td>\n",
       "      <td>1262</td>\n",
       "      <td>Breloom</td>\n",
       "      <td>Salamence</td>\n",
       "      <td>None</td>\n",
       "      <td>None</td>\n",
       "      <td>NaN</td>\n",
       "      <td>None</td>\n",
       "      <td>NaN</td>\n",
       "      <td>None</td>\n",
       "      <td>Swampert</td>\n",
       "      <td>Heracross</td>\n",
       "    </tr>\n",
       "    <tr>\n",
       "      <th>1</th>\n",
       "      <td>2269094040-MasterRDF-TestingUnoDueTre</td>\n",
       "      <td>1</td>\n",
       "      <td>1290</td>\n",
       "      <td>1262</td>\n",
       "      <td>Swampert</td>\n",
       "      <td>Salamence</td>\n",
       "      <td>None</td>\n",
       "      <td>Hidden Power</td>\n",
       "      <td>0.59</td>\n",
       "      <td>None</td>\n",
       "      <td>NaN</td>\n",
       "      <td>None</td>\n",
       "      <td>Swampert</td>\n",
       "      <td>Heracross</td>\n",
       "    </tr>\n",
       "    <tr>\n",
       "      <th>2</th>\n",
       "      <td>2269097878-KelDawntreader-loleinsmaragd</td>\n",
       "      <td>0</td>\n",
       "      <td>1362</td>\n",
       "      <td>1456</td>\n",
       "      <td>Tyranitar</td>\n",
       "      <td>Zapdos</td>\n",
       "      <td>None</td>\n",
       "      <td>None</td>\n",
       "      <td>NaN</td>\n",
       "      <td>None</td>\n",
       "      <td>NaN</td>\n",
       "      <td>None</td>\n",
       "      <td>Swampert</td>\n",
       "      <td>Flygon</td>\n",
       "    </tr>\n",
       "    <tr>\n",
       "      <th>3</th>\n",
       "      <td>2269097878-KelDawntreader-loleinsmaragd</td>\n",
       "      <td>1</td>\n",
       "      <td>1362</td>\n",
       "      <td>1456</td>\n",
       "      <td>Tyranitar</td>\n",
       "      <td>Flygon</td>\n",
       "      <td>Rock Slide</td>\n",
       "      <td>None</td>\n",
       "      <td>NaN</td>\n",
       "      <td>None</td>\n",
       "      <td>0.86</td>\n",
       "      <td>None</td>\n",
       "      <td>Swampert</td>\n",
       "      <td>Flygon</td>\n",
       "    </tr>\n",
       "    <tr>\n",
       "      <th>4</th>\n",
       "      <td>2269097878-KelDawntreader-loleinsmaragd</td>\n",
       "      <td>2</td>\n",
       "      <td>1362</td>\n",
       "      <td>1456</td>\n",
       "      <td>Swampert</td>\n",
       "      <td>Flygon</td>\n",
       "      <td>None</td>\n",
       "      <td>Toxic</td>\n",
       "      <td>0.94</td>\n",
       "      <td>tox</td>\n",
       "      <td>NaN</td>\n",
       "      <td>None</td>\n",
       "      <td>Swampert</td>\n",
       "      <td>Flygon</td>\n",
       "    </tr>\n",
       "  </tbody>\n",
       "</table>\n",
       "</div>"
      ],
      "text/plain": [
       "                                   game_id  turn_id  p1_rating  p2_rating  \\\n",
       "0    2269094040-MasterRDF-TestingUnoDueTre        0       1290       1262   \n",
       "1    2269094040-MasterRDF-TestingUnoDueTre        1       1290       1262   \n",
       "2  2269097878-KelDawntreader-loleinsmaragd        0       1362       1456   \n",
       "3  2269097878-KelDawntreader-loleinsmaragd        1       1362       1456   \n",
       "4  2269097878-KelDawntreader-loleinsmaragd        2       1362       1456   \n",
       "\n",
       "  p1_pokemon p2_pokemon     p1_move       p2_move  p1_damage_taken p1_status  \\\n",
       "0    Breloom  Salamence        None          None              NaN      None   \n",
       "1   Swampert  Salamence        None  Hidden Power             0.59      None   \n",
       "2  Tyranitar     Zapdos        None          None              NaN      None   \n",
       "3  Tyranitar     Flygon  Rock Slide          None              NaN      None   \n",
       "4   Swampert     Flygon        None         Toxic             0.94       tox   \n",
       "\n",
       "   p2_damage_taken p2_status p1_revealed_pokemon p2_revealed_pokemon  \n",
       "0              NaN      None            Swampert           Heracross  \n",
       "1              NaN      None            Swampert           Heracross  \n",
       "2              NaN      None            Swampert              Flygon  \n",
       "3             0.86      None            Swampert              Flygon  \n",
       "4              NaN      None            Swampert              Flygon  "
      ]
     },
     "execution_count": 6,
     "metadata": {},
     "output_type": "execute_result"
    }
   ],
   "source": [
    "df.head()"
   ]
  },
  {
   "cell_type": "markdown",
   "metadata": {},
   "source": [
    "# Baseline Error"
   ]
  },
  {
   "cell_type": "code",
   "execution_count": 13,
   "metadata": {},
   "outputs": [
    {
     "data": {
      "text/plain": [
       "0.07174011129493157"
      ]
     },
     "execution_count": 13,
     "metadata": {},
     "output_type": "execute_result"
    }
   ],
   "source": [
    "df['p2_revealed_pokemon'].value_counts().max() / len(df['p2_revealed_pokemon'])"
   ]
  },
  {
   "cell_type": "markdown",
   "metadata": {},
   "source": [
    "# General Analysis"
   ]
  },
  {
   "cell_type": "code",
   "execution_count": 15,
   "metadata": {},
   "outputs": [
    {
     "name": "stdout",
     "output_type": "stream",
     "text": [
      "Unique Pokemon: 110\n"
     ]
    }
   ],
   "source": [
    "print(\"Unique Pokemon:\",len(df['p2_revealed_pokemon'].value_counts()))"
   ]
  },
  {
   "cell_type": "code",
   "execution_count": 17,
   "metadata": {},
   "outputs": [],
   "source": [
    "X = df.drop('p2_revealed_pokemon', axis=1)\n",
    "y = df['p2_revealed_pokemon']"
   ]
  },
  {
   "cell_type": "code",
   "execution_count": 19,
   "metadata": {},
   "outputs": [],
   "source": [
    "df_number = df.select_dtypes(include='number')\n",
    "df_categorical = df.select_dtypes(exclude='number')\n",
    "df_categorical = pd.get_dummies(df_categorical, dtype='int')\n"
   ]
  },
  {
   "cell_type": "code",
   "execution_count": 20,
   "metadata": {},
   "outputs": [
    {
     "data": {
      "text/html": [
       "<div>\n",
       "<style scoped>\n",
       "    .dataframe tbody tr th:only-of-type {\n",
       "        vertical-align: middle;\n",
       "    }\n",
       "\n",
       "    .dataframe tbody tr th {\n",
       "        vertical-align: top;\n",
       "    }\n",
       "\n",
       "    .dataframe thead th {\n",
       "        text-align: right;\n",
       "    }\n",
       "</style>\n",
       "<table border=\"1\" class=\"dataframe\">\n",
       "  <thead>\n",
       "    <tr style=\"text-align: right;\">\n",
       "      <th></th>\n",
       "      <th>turn_id</th>\n",
       "      <th>p1_rating</th>\n",
       "      <th>p2_rating</th>\n",
       "      <th>p1_damage_taken</th>\n",
       "      <th>p2_damage_taken</th>\n",
       "    </tr>\n",
       "  </thead>\n",
       "  <tbody>\n",
       "    <tr>\n",
       "      <th>turn_id</th>\n",
       "      <td>1.000000</td>\n",
       "      <td>-0.113798</td>\n",
       "      <td>-0.154085</td>\n",
       "      <td>-0.019467</td>\n",
       "      <td>-0.028947</td>\n",
       "    </tr>\n",
       "    <tr>\n",
       "      <th>p1_rating</th>\n",
       "      <td>-0.113798</td>\n",
       "      <td>1.000000</td>\n",
       "      <td>0.854867</td>\n",
       "      <td>0.049776</td>\n",
       "      <td>-0.017745</td>\n",
       "    </tr>\n",
       "    <tr>\n",
       "      <th>p2_rating</th>\n",
       "      <td>-0.154085</td>\n",
       "      <td>0.854867</td>\n",
       "      <td>1.000000</td>\n",
       "      <td>0.059692</td>\n",
       "      <td>-0.001572</td>\n",
       "    </tr>\n",
       "    <tr>\n",
       "      <th>p1_damage_taken</th>\n",
       "      <td>-0.019467</td>\n",
       "      <td>0.049776</td>\n",
       "      <td>0.059692</td>\n",
       "      <td>1.000000</td>\n",
       "      <td>0.210773</td>\n",
       "    </tr>\n",
       "    <tr>\n",
       "      <th>p2_damage_taken</th>\n",
       "      <td>-0.028947</td>\n",
       "      <td>-0.017745</td>\n",
       "      <td>-0.001572</td>\n",
       "      <td>0.210773</td>\n",
       "      <td>1.000000</td>\n",
       "    </tr>\n",
       "  </tbody>\n",
       "</table>\n",
       "</div>"
      ],
      "text/plain": [
       "                  turn_id  p1_rating  p2_rating  p1_damage_taken  \\\n",
       "turn_id          1.000000  -0.113798  -0.154085        -0.019467   \n",
       "p1_rating       -0.113798   1.000000   0.854867         0.049776   \n",
       "p2_rating       -0.154085   0.854867   1.000000         0.059692   \n",
       "p1_damage_taken -0.019467   0.049776   0.059692         1.000000   \n",
       "p2_damage_taken -0.028947  -0.017745  -0.001572         0.210773   \n",
       "\n",
       "                 p2_damage_taken  \n",
       "turn_id                -0.028947  \n",
       "p1_rating              -0.017745  \n",
       "p2_rating              -0.001572  \n",
       "p1_damage_taken         0.210773  \n",
       "p2_damage_taken         1.000000  "
      ]
     },
     "execution_count": 20,
     "metadata": {},
     "output_type": "execute_result"
    }
   ],
   "source": [
    "df_number.corr()"
   ]
  },
  {
   "cell_type": "markdown",
   "metadata": {},
   "source": [
    "It's interesting the the correlation between `p1_rating` and `p1_damage_taken` is very different from the correlation between `p2_rating` and `p2_damage_taken`."
   ]
  },
  {
   "cell_type": "markdown",
   "metadata": {},
   "source": [
    "## Looking at a subset of the data"
   ]
  },
  {
   "cell_type": "code",
   "execution_count": 30,
   "metadata": {},
   "outputs": [],
   "source": [
    "subset_columns = ['p1_rating', 'p2_rating', 'p1_pokemon', 'p2_pokemon', 'p1_revealed_pokemon', 'p2_revealed_pokemon']\n",
    "df_sub = df[subset_columns]"
   ]
  },
  {
   "cell_type": "code",
   "execution_count": 31,
   "metadata": {},
   "outputs": [],
   "source": [
    "X_sub = df_sub.drop('p2_revealed_pokemon', axis = 1)\n",
    "y_sub = df_sub['p1_revealed_pokemon']"
   ]
  },
  {
   "cell_type": "code",
   "execution_count": 32,
   "metadata": {},
   "outputs": [],
   "source": [
    "X_sub_number = X_sub.select_dtypes(include='number')\n",
    "X_sub_categorical = X_sub.select_dtypes(exclude='number')"
   ]
  },
  {
   "cell_type": "code",
   "execution_count": 33,
   "metadata": {},
   "outputs": [],
   "source": [
    "X_sub_categorical = pd.get_dummies(X_sub_categorical, dtype='int')"
   ]
  },
  {
   "cell_type": "code",
   "execution_count": 37,
   "metadata": {},
   "outputs": [
    {
     "data": {
      "text/html": [
       "<div>\n",
       "<style scoped>\n",
       "    .dataframe tbody tr th:only-of-type {\n",
       "        vertical-align: middle;\n",
       "    }\n",
       "\n",
       "    .dataframe tbody tr th {\n",
       "        vertical-align: top;\n",
       "    }\n",
       "\n",
       "    .dataframe thead th {\n",
       "        text-align: right;\n",
       "    }\n",
       "</style>\n",
       "<table border=\"1\" class=\"dataframe\">\n",
       "  <thead>\n",
       "    <tr style=\"text-align: right;\">\n",
       "      <th></th>\n",
       "      <th>p1_rating</th>\n",
       "      <th>p2_rating</th>\n",
       "    </tr>\n",
       "  </thead>\n",
       "  <tbody>\n",
       "    <tr>\n",
       "      <th>p1_rating</th>\n",
       "      <td>1.000000</td>\n",
       "      <td>0.854867</td>\n",
       "    </tr>\n",
       "    <tr>\n",
       "      <th>p2_rating</th>\n",
       "      <td>0.854867</td>\n",
       "      <td>1.000000</td>\n",
       "    </tr>\n",
       "  </tbody>\n",
       "</table>\n",
       "</div>"
      ],
      "text/plain": [
       "           p1_rating  p2_rating\n",
       "p1_rating   1.000000   0.854867\n",
       "p2_rating   0.854867   1.000000"
      ]
     },
     "execution_count": 37,
     "metadata": {},
     "output_type": "execute_result"
    }
   ],
   "source": [
    "X_sub_number.corr()"
   ]
  },
  {
   "cell_type": "markdown",
   "metadata": {},
   "source": [
    "This shows how players with similar ratings are paired up against each other"
   ]
  },
  {
   "cell_type": "code",
   "execution_count": null,
   "metadata": {},
   "outputs": [],
   "source": []
  }
 ],
 "metadata": {
  "kernelspec": {
   "display_name": "Python 3 (ipykernel)",
   "language": "python",
   "name": "python3"
  },
  "language_info": {
   "codemirror_mode": {
    "name": "ipython",
    "version": 3
   },
   "file_extension": ".py",
   "mimetype": "text/x-python",
   "name": "python",
   "nbconvert_exporter": "python",
   "pygments_lexer": "ipython3",
   "version": "3.12.9"
  }
 },
 "nbformat": 4,
 "nbformat_minor": 4
}
